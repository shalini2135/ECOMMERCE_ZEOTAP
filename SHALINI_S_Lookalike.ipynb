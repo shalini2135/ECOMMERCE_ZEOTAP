{
 "cells": [
  {
   "cell_type": "code",
   "execution_count": 1,
   "id": "410dc1ea-8c11-4058-901d-25306faa69eb",
   "metadata": {},
   "outputs": [],
   "source": [
    "import pandas as pd\n",
    "from sklearn.preprocessing import StandardScaler\n",
    "from sklearn.metrics.pairwise import cosine_similarity"
   ]
  },
  {
   "cell_type": "code",
   "execution_count": 4,
   "id": "03c8d792-8cf0-46ba-a9b2-681c1bcbee85",
   "metadata": {},
   "outputs": [],
   "source": [
    "# Load datasets"
   ]
  },
  {
   "cell_type": "code",
   "execution_count": 6,
   "id": "c24f36b6-e098-4abb-af10-ea9fbfd00cf7",
   "metadata": {},
   "outputs": [],
   "source": [
    "customer_data = pd.read_csv(\"Customers.csv\")\n",
    "product_data = pd.read_csv(\"Products.csv\")\n",
    "transac_data = pd.read_csv(\"Transactions.csv\")"
   ]
  },
  {
   "cell_type": "code",
   "execution_count": 10,
   "id": "7dcf79ae-53da-4c79-a8eb-be93280be015",
   "metadata": {},
   "outputs": [],
   "source": [
    "# Data Cleaning and Merging"
   ]
  },
  {
   "cell_type": "code",
   "execution_count": 25,
   "id": "8a376d86-8826-4b98-9727-2ee0fd1aa471",
   "metadata": {},
   "outputs": [],
   "source": [
    "customer_data_cleaned = customer_data.drop(['CustomerName', 'SignupDate'], axis=1)\n",
    "transaction_data_cleaned = transac_data.drop(['TransactionID', 'TransactionDate'], axis=1)"
   ]
  },
  {
   "cell_type": "code",
   "execution_count": 14,
   "id": "562a355b-b77f-4e30-8137-98549d02b485",
   "metadata": {},
   "outputs": [],
   "source": [
    "# Merge customer and transaction data"
   ]
  },
  {
   "cell_type": "code",
   "execution_count": 27,
   "id": "546b6ccc-56bd-403a-bdc1-3570ba36b546",
   "metadata": {},
   "outputs": [],
   "source": [
    "merged_data = pd.merge(customer_data_cleaned, transaction_data_cleaned, on='CustomerID')"
   ]
  },
  {
   "cell_type": "code",
   "execution_count": 18,
   "id": "0f09eca9-6782-4247-b038-0d6a7c057b02",
   "metadata": {},
   "outputs": [],
   "source": [
    "# Feature Engineering: Group by CustomerID and aggregate features"
   ]
  },
  {
   "cell_type": "code",
   "execution_count": 34,
   "id": "f2a7d984-1175-4e4d-8ae4-1aa8d2258747",
   "metadata": {},
   "outputs": [],
   "source": [
    "customer_features = merged_data.groupby('CustomerID').agg({\n",
    "    'Region': 'first',    # Categorical, we'll encode this\n",
    "    'Quantity': 'sum',    # Total quantity purchased\n",
    "    'TotalValue': 'sum',  # Total value of transactions\n",
    "    'Price': 'mean'       # Average price per item\n",
    "}).reset_index()"
   ]
  },
  {
   "cell_type": "code",
   "execution_count": 36,
   "id": "477ae39e-87c0-4719-8dd3-4b62fbbb6436",
   "metadata": {},
   "outputs": [],
   "source": [
    "# Encoding categorical data (Region)"
   ]
  },
  {
   "cell_type": "code",
   "execution_count": 38,
   "id": "fdf702be-cf9d-4953-b147-46481776163f",
   "metadata": {},
   "outputs": [],
   "source": [
    "customer_features['Region'] = customer_features['Region'].astype('category').cat.codes"
   ]
  },
  {
   "cell_type": "code",
   "execution_count": 40,
   "id": "7b0531e9-4970-4e21-b842-f33cb35a238f",
   "metadata": {},
   "outputs": [],
   "source": [
    "# Scaling numerical features"
   ]
  },
  {
   "cell_type": "code",
   "execution_count": 42,
   "id": "5c5088ac-f5e0-429a-8dde-cc7e8080d5df",
   "metadata": {},
   "outputs": [],
   "source": [
    "scaler = StandardScaler()\n",
    "scaled_features = scaler.fit_transform(customer_features.iloc[:, 1:])\n"
   ]
  },
  {
   "cell_type": "code",
   "execution_count": 44,
   "id": "cb03e4bb-3afe-4627-8d5f-092b8ff4426a",
   "metadata": {},
   "outputs": [],
   "source": [
    "# Calculate Cosine Similarity"
   ]
  },
  {
   "cell_type": "code",
   "execution_count": 46,
   "id": "9a4521bd-f1a6-495b-9584-feffe35702ae",
   "metadata": {},
   "outputs": [],
   "source": [
    "similarity_matrix = cosine_similarity(scaled_features)"
   ]
  },
  {
   "cell_type": "code",
   "execution_count": 48,
   "id": "e2a37fc2-e27a-4345-8ed3-d84118065db2",
   "metadata": {},
   "outputs": [],
   "source": [
    "# Create a Lookalike Map for the first 20 customers (C0001 - C0020)"
   ]
  },
  {
   "cell_type": "code",
   "execution_count": 50,
   "id": "b1dd8d7e-c8ef-482f-96fd-878601cc77e2",
   "metadata": {},
   "outputs": [],
   "source": [
    "customer_ids = customer_features['CustomerID'].values\n",
    "lookalike_map = {}"
   ]
  },
  {
   "cell_type": "code",
   "execution_count": 52,
   "id": "5e9d7b6b-6507-47d5-99d9-ff6b6a51dc67",
   "metadata": {},
   "outputs": [],
   "source": [
    "for idx, cust_id in enumerate(customer_ids[:20]):\n",
    "    similarity_scores = list(enumerate(similarity_matrix[idx]))\n",
    "    top_3_similar = sorted(similarity_scores, key=lambda x: x[1], reverse=True)[1:4]\n",
    "    lookalike_map[cust_id] = [(customer_ids[sim_idx], round(score, 3)) for sim_idx, score in top_3_similar]\n"
   ]
  },
  {
   "cell_type": "code",
   "execution_count": 57,
   "id": "7fd1bf80-ba65-493e-859a-210f2ce025b9",
   "metadata": {},
   "outputs": [
    {
     "name": "stdout",
     "output_type": "stream",
     "text": [
      "Lookalike.csv file has been created.\n"
     ]
    }
   ],
   "source": [
    "\n",
    "lookalike_data = []\n",
    "for cust_id, recommendations in lookalike_map.items():\n",
    "    lookalike_data.append({\n",
    "        \"CustomerID\": cust_id,\n",
    "        \"Lookalikes\": str(recommendations)  # Save as string representation\n",
    "    })\n",
    "\n",
    "lookalike_df = pd.DataFrame(lookalike_data)\n",
    "lookalike_df.to_csv(\"Lookalike.csv\", index=False)\n",
    "print(\"Lookalike.csv file has been created.\")"
   ]
  },
  {
   "cell_type": "code",
   "execution_count": null,
   "id": "20c52a56-3d36-40f5-912a-af90554b6a52",
   "metadata": {},
   "outputs": [],
   "source": []
  },
  {
   "cell_type": "code",
   "execution_count": null,
   "id": "2f71a195-965e-4169-a271-f41e364759b2",
   "metadata": {},
   "outputs": [],
   "source": []
  }
 ],
 "metadata": {
  "kernelspec": {
   "display_name": "Python 3 (ipykernel)",
   "language": "python",
   "name": "python3"
  },
  "language_info": {
   "codemirror_mode": {
    "name": "ipython",
    "version": 3
   },
   "file_extension": ".py",
   "mimetype": "text/x-python",
   "name": "python",
   "nbconvert_exporter": "python",
   "pygments_lexer": "ipython3",
   "version": "3.12.4"
  }
 },
 "nbformat": 4,
 "nbformat_minor": 5
}
